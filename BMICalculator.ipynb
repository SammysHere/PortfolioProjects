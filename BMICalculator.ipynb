{
 "cells": [
  {
   "cell_type": "code",
   "execution_count": 6,
   "id": "80ab5b6b-c9b7-4d24-b437-1abeac12e0c7",
   "metadata": {},
   "outputs": [
    {
     "name": "stdin",
     "output_type": "stream",
     "text": [
      "Enter your name here Samantha\n",
      "Enter your weight in pounds:  160\n",
      "Enter your height in inches:  67\n"
     ]
    },
    {
     "name": "stdout",
     "output_type": "stream",
     "text": [
      "25.056805524615726\n"
     ]
    }
   ],
   "source": [
    "name = input(\"Enter your name here\")\n",
    "\n",
    "weight = int(input(\"Enter your weight in pounds: \"))\n",
    "\n",
    "height = int(input(\"Enter your height in inches: \"))\n",
    "\n",
    "BMI = (weight * 703) / (height * height)\n",
    "\n",
    "print(BMI)"
   ]
  },
  {
   "cell_type": "code",
   "execution_count": 8,
   "id": "62dc05a8-c156-4ad7-957e-fdf293936d8a",
   "metadata": {},
   "outputs": [
    {
     "name": "stdout",
     "output_type": "stream",
     "text": [
      "Samantha is overweight\n"
     ]
    }
   ],
   "source": [
    "if BMI>0:\n",
    "    if(BMI<18.5):\n",
    "        print(name + \" is underweight\")\n",
    "    elif(BMI<=24.9):\n",
    "        print(name + \" is normal weight\")\n",
    "    elif(BMI<29.9):\n",
    "        print(name + \" is overweight\")\n",
    "    elif(BMI<34.9):\n",
    "        print(name + \" is obese\")\n",
    "    elif(BMI<39.9):\n",
    "        print(name + \" is morbidly obese\")\n",
    "    else:\n",
    "        print(\"Enter valid inputs\")"
   ]
  },
  {
   "cell_type": "code",
   "execution_count": null,
   "id": "15dd0865-4fc7-4498-8e33-3293930ac32b",
   "metadata": {},
   "outputs": [],
   "source": []
  },
  {
   "cell_type": "code",
   "execution_count": null,
   "id": "df06ac71-dc67-4bba-b1c0-e48819d50891",
   "metadata": {},
   "outputs": [],
   "source": []
  },
  {
   "cell_type": "code",
   "execution_count": null,
   "id": "c9987ba3-5365-4a22-afcf-982541a6c352",
   "metadata": {},
   "outputs": [],
   "source": []
  },
  {
   "cell_type": "code",
   "execution_count": null,
   "id": "21db833a-bdcf-4d27-89aa-5329e2c62a73",
   "metadata": {},
   "outputs": [],
   "source": []
  },
  {
   "cell_type": "code",
   "execution_count": null,
   "id": "b6da18ac-4f9e-4a35-9df7-2b05c1f4bef5",
   "metadata": {},
   "outputs": [],
   "source": []
  },
  {
   "cell_type": "code",
   "execution_count": null,
   "id": "be3a5db3-6817-4da7-812d-4ea64a839e3c",
   "metadata": {},
   "outputs": [],
   "source": []
  },
  {
   "cell_type": "code",
   "execution_count": null,
   "id": "6fa2185a-7812-4f16-a9ba-ce675ad5df93",
   "metadata": {},
   "outputs": [],
   "source": []
  },
  {
   "cell_type": "code",
   "execution_count": null,
   "id": "98182a06-bfca-4d97-83fe-b4e5513045ad",
   "metadata": {},
   "outputs": [],
   "source": []
  },
  {
   "cell_type": "code",
   "execution_count": null,
   "id": "f490e329-3736-4c24-b159-46176711589c",
   "metadata": {},
   "outputs": [],
   "source": []
  },
  {
   "cell_type": "code",
   "execution_count": null,
   "id": "c6727fd9-10d7-4696-80c9-00ba98c3bed0",
   "metadata": {},
   "outputs": [],
   "source": []
  }
 ],
 "metadata": {
  "kernelspec": {
   "display_name": "Python 3 (ipykernel)",
   "language": "python",
   "name": "python3"
  },
  "language_info": {
   "codemirror_mode": {
    "name": "ipython",
    "version": 3
   },
   "file_extension": ".py",
   "mimetype": "text/x-python",
   "name": "python",
   "nbconvert_exporter": "python",
   "pygments_lexer": "ipython3",
   "version": "3.11.7"
  }
 },
 "nbformat": 4,
 "nbformat_minor": 5
}
